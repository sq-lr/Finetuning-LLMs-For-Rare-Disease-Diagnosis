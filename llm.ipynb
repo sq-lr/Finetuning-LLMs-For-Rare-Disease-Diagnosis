{
 "cells": [
  {
   "cell_type": "markdown",
   "metadata": {},
   "source": [
    "# Set Up"
   ]
  },
  {
   "cell_type": "code",
   "execution_count": 1,
   "metadata": {},
   "outputs": [
    {
     "name": "stderr",
     "output_type": "stream",
     "text": [
      "/Users/squirrellover/Library/Python/3.10/lib/python/site-packages/tqdm/auto.py:21: TqdmWarning: IProgress not found. Please update jupyter and ipywidgets. See https://ipywidgets.readthedocs.io/en/stable/user_install.html\n",
      "  from .autonotebook import tqdm as notebook_tqdm\n"
     ]
    },
    {
     "name": "stdout",
     "output_type": "stream",
     "text": [
      "\n",
      "===================================BUG REPORT===================================\n",
      "Welcome to bitsandbytes. For bug reports, please run\n",
      "\n",
      "python -m bitsandbytes\n",
      "\n",
      " and submit this information together with your error trace to: https://github.com/TimDettmers/bitsandbytes/issues\n",
      "================================================================================\n",
      "bin /Users/squirrellover/Library/Python/3.10/lib/python/site-packages/bitsandbytes/libbitsandbytes_cpu.so\n",
      "'NoneType' object has no attribute 'cadam32bit_grad_fp32'\n",
      "CUDA SETUP: Loading binary /Users/squirrellover/Library/Python/3.10/lib/python/site-packages/bitsandbytes/libbitsandbytes_cpu.so...\n",
      "dlopen(/Users/squirrellover/Library/Python/3.10/lib/python/site-packages/bitsandbytes/libbitsandbytes_cpu.so, 0x0006): tried: '/Users/squirrellover/Library/Python/3.10/lib/python/site-packages/bitsandbytes/libbitsandbytes_cpu.so' (not a mach-o file), '/System/Volumes/Preboot/Cryptexes/OS/Users/squirrellover/Library/Python/3.10/lib/python/site-packages/bitsandbytes/libbitsandbytes_cpu.so' (no such file), '/Users/squirrellover/Library/Python/3.10/lib/python/site-packages/bitsandbytes/libbitsandbytes_cpu.so' (not a mach-o file)\n"
     ]
    },
    {
     "name": "stderr",
     "output_type": "stream",
     "text": [
      "/Users/squirrellover/Library/Python/3.10/lib/python/site-packages/bitsandbytes/cextension.py:34: UserWarning: The installed version of bitsandbytes was compiled without GPU support. 8-bit optimizers, 8-bit multiplication, and GPU quantization are unavailable.\n",
      "  warn(\"The installed version of bitsandbytes was compiled without GPU support. \"\n"
     ]
    }
   ],
   "source": [
    "import torch\n",
    "import torch.nn as nn\n",
    "from transformers import AutoTokenizer, AutoConfig, AutoModelForCausalLM, BitsAndBytesConfig\n",
    "import transformers\n",
    "from datasets import load_dataset, concatenate_datasets, ClassLabel\n",
    "import json\n",
    "import pandas as pd\n",
    "from openai import OpenAI\n",
    "import ast\n",
    "from peft import prepare_model_for_kbit_training, LoraConfig, get_peft_model, PeftModel\n",
    "import matplotlib.pyplot as plt"
   ]
  },
  {
   "cell_type": "code",
   "execution_count": 5,
   "metadata": {},
   "outputs": [],
   "source": [
    "device = torch.device(\"mps\")"
   ]
  },
  {
   "cell_type": "code",
   "execution_count": null,
   "metadata": {},
   "outputs": [],
   "source": [
    "!huggingface-cli login --token nicetry\n"
   ]
  },
  {
   "cell_type": "code",
   "execution_count": 6,
   "metadata": {},
   "outputs": [
    {
     "name": "stderr",
     "output_type": "stream",
     "text": [
      "Loading checkpoint shards: 100%|██████████| 2/2 [00:20<00:00, 10.23s/it]\n"
     ]
    }
   ],
   "source": [
    "model = AutoModelForCausalLM.from_pretrained(\n",
    "    \"meta-llama/Llama-2-7b-chat-hf\",\n",
    "    cache_dir=\"base_models_7b\",\n",
    "    device_map='auto',\n",
    "    offload_folder=\"save_folder\"\n",
    ")"
   ]
  },
  {
   "cell_type": "code",
   "execution_count": 7,
   "metadata": {},
   "outputs": [],
   "source": [
    "tokenizer = AutoTokenizer.from_pretrained(\"meta-llama/Llama-2-7b-chat-hf\", cache_dir=\"base_models_7b\", padding_side=\"left\")"
   ]
  },
  {
   "cell_type": "code",
   "execution_count": 8,
   "metadata": {},
   "outputs": [],
   "source": [
    "tokenizer.model_max_length = 1024\n",
    "tokenizer.truncation = True \n",
    "tokenizer.padding = \"max_length\""
   ]
  },
  {
   "cell_type": "code",
   "execution_count": 9,
   "metadata": {},
   "outputs": [
    {
     "name": "stdout",
     "output_type": "stream",
     "text": [
      "Tokenizer pad token ID: 32000\n",
      "Model pad token ID: 32000\n",
      "Model config pad token ID: 32000\n"
     ]
    }
   ],
   "source": [
    "# https://github.com/TrelisResearch/llama-2-setup\n",
    "# Check if the pad token is already in the tokenizer vocabulary\n",
    "if '<pad>' not in tokenizer.get_vocab():\n",
    "  # Add the pad token\n",
    "  tokenizer.add_special_tokens({\"pad_token\":\"<pad>\"})\n",
    "\n",
    "#Resize the embeddings\n",
    "model.resize_token_embeddings(len(tokenizer))\n",
    "\n",
    "#Configure the pad token in the model\n",
    "model.config.pad_token_id = tokenizer.pad_token_id\n",
    "\n",
    "# Check if they are equal\n",
    "assert model.config.pad_token_id == tokenizer.pad_token_id, \"The model's pad token ID does not match the tokenizer's pad token ID!\"\n",
    "\n",
    "# Print the pad token ids\n",
    "print('Tokenizer pad token ID:', tokenizer.pad_token_id)\n",
    "print('Model pad token ID:', model.config.pad_token_id)\n",
    "print('Model config pad token ID:', model.config.pad_token_id)"
   ]
  },
  {
   "cell_type": "code",
   "execution_count": 10,
   "metadata": {},
   "outputs": [],
   "source": [
    "def get_response(prompt, max_new_tokens=2000):\n",
    "    inputs = tokenizer(prompt, return_tensors=\"pt\").to(device)\n",
    "    outputs = model.generate(**inputs, max_new_tokens=max_new_tokens, repetition_penalty = 1.18, temperature= 0.15)\n",
    "    response = tokenizer.decode(outputs[0], skip_special_tokens=True)\n",
    "    return response"
   ]
  },
  {
   "cell_type": "markdown",
   "metadata": {
    "jp-MarkdownHeadingCollapsed": true
   },
   "source": [
    "# Zero-Shot Inference"
   ]
  },
  {
   "cell_type": "code",
   "execution_count": null,
   "metadata": {},
   "outputs": [],
   "source": [
    "rb_test = pd.read_csv('rarebench_data_test.csv')\n",
    "correct = 0\n",
    "zero_shot_predictions = []\n",
    "\n",
    "for _, example in rb_test.iterrows():\n",
    "    prompt = '''<s>[INST] <<SYS>>\n",
    "            {{ You are a specialist in the field of rare diseases. You will be provided and\n",
    "            asked about a complicated clinical case; read it carefully and then provide a diverse and\n",
    "            comprehensive differential diagnosis. }}\n",
    "            <</SYS>>\n",
    "\n",
    "            {{ This rare disease patient suffers from symptoms: '''+ example[\"symptoms\"] +'''. Enumerate the top 10 most likely diagnoses. Be precise,\n",
    "            listing one diagnosis per line, and try to cover many unique possibilities (at least 10). The\n",
    "            top 10 diagnoses are: }} [/INST]'''\n",
    "    result = get_response(prompt)\n",
    "    \n",
    "    zero_shot_predictions.append({\n",
    "        \"symptoms\": example[\"symptoms\"],\n",
    "        \"diseases\": example[\"diseases\"],\n",
    "        \"predicted\": result\n",
    "    })    \n",
    "\n",
    "    zero_shot_predictions = pd.DataFrame(zero_shot_predictions)"
   ]
  },
  {
   "cell_type": "code",
   "execution_count": 15,
   "metadata": {},
   "outputs": [
    {
     "data": {
      "text/html": [
       "<div>\n",
       "<style scoped>\n",
       "    .dataframe tbody tr th:only-of-type {\n",
       "        vertical-align: middle;\n",
       "    }\n",
       "\n",
       "    .dataframe tbody tr th {\n",
       "        vertical-align: top;\n",
       "    }\n",
       "\n",
       "    .dataframe thead th {\n",
       "        text-align: right;\n",
       "    }\n",
       "</style>\n",
       "<table border=\"1\" class=\"dataframe\">\n",
       "  <thead>\n",
       "    <tr style=\"text-align: right;\">\n",
       "      <th></th>\n",
       "      <th>0</th>\n",
       "      <th>1</th>\n",
       "      <th>2</th>\n",
       "      <th>4</th>\n",
       "    </tr>\n",
       "  </thead>\n",
       "  <tbody>\n",
       "    <tr>\n",
       "      <th>0</th>\n",
       "      <td>['Intellectual disability', 'Hypotonia', 'Glob...</td>\n",
       "      <td>['TBCK-related intellectual disability syndrom...</td>\n",
       "      <td>[INST] &lt;&lt;SYS&gt;&gt;\\n            {{ You are a speci...</td>\n",
       "      <td>False</td>\n",
       "    </tr>\n",
       "    <tr>\n",
       "      <th>1</th>\n",
       "      <td>['Death in infancy', 'Aminoaciduria', 'Abnorma...</td>\n",
       "      <td>['3-Methylcrotonyl-CoA carboxylase 1 deficienc...</td>\n",
       "      <td>[INST] &lt;&lt;SYS&gt;&gt;\\n            {{ You are a speci...</td>\n",
       "      <td>False</td>\n",
       "    </tr>\n",
       "    <tr>\n",
       "      <th>2</th>\n",
       "      <td>['Weight loss', 'Arthralgia', 'Elevated circul...</td>\n",
       "      <td>['Scleroderma, familial progressive', 'Systemi...</td>\n",
       "      <td>[INST] &lt;&lt;SYS&gt;&gt;\\n            {{ You are a speci...</td>\n",
       "      <td>False</td>\n",
       "    </tr>\n",
       "    <tr>\n",
       "      <th>3</th>\n",
       "      <td>['Seizure', 'Spastic diplegia', 'Encephalopath...</td>\n",
       "      <td>['Glutaric acidemia type I; GA-I/Glutaryl-CoA ...</td>\n",
       "      <td>[INST] &lt;&lt;SYS&gt;&gt;\\n            {{ You are a speci...</td>\n",
       "      <td>True</td>\n",
       "    </tr>\n",
       "    <tr>\n",
       "      <th>4</th>\n",
       "      <td>['Wide mouth', 'Epicanthus', 'Carious teeth', ...</td>\n",
       "      <td>['Hyperinsulinemic hypoglycemia, familial, 2',...</td>\n",
       "      <td>[INST] &lt;&lt;SYS&gt;&gt;\\n            {{ You are a speci...</td>\n",
       "      <td>False</td>\n",
       "    </tr>\n",
       "    <tr>\n",
       "      <th>...</th>\n",
       "      <td>...</td>\n",
       "      <td>...</td>\n",
       "      <td>...</td>\n",
       "      <td>...</td>\n",
       "    </tr>\n",
       "    <tr>\n",
       "      <th>415</th>\n",
       "      <td>['Vesicoureteral reflux', 'Microretrognathia',...</td>\n",
       "      <td>['Mental retardation, autosomal dominant 42']</td>\n",
       "      <td>[INST] &lt;&lt;SYS&gt;&gt;\\n            {{ You are a speci...</td>\n",
       "      <td>False</td>\n",
       "    </tr>\n",
       "    <tr>\n",
       "      <th>416</th>\n",
       "      <td>['Obesity', 'Death in infancy', 'Neutropenia',...</td>\n",
       "      <td>['Glycogen storage disease Ib/Glycogen storage...</td>\n",
       "      <td>[INST] &lt;&lt;SYS&gt;&gt;\\n            {{ You are a speci...</td>\n",
       "      <td>False</td>\n",
       "    </tr>\n",
       "    <tr>\n",
       "      <th>417</th>\n",
       "      <td>['Eosinophilia', 'Lymphopenia', 'Increased cir...</td>\n",
       "      <td>['Candidiasis, familial chronic mucocutaneous,...</td>\n",
       "      <td>[INST] &lt;&lt;SYS&gt;&gt;\\n            {{ You are a speci...</td>\n",
       "      <td>False</td>\n",
       "    </tr>\n",
       "    <tr>\n",
       "      <th>418</th>\n",
       "      <td>['Microcephaly', 'Ptosis', 'Myopia', 'Autism',...</td>\n",
       "      <td>['Intellectual developmental disorder with dys...</td>\n",
       "      <td>[INST] &lt;&lt;SYS&gt;&gt;\\n            {{ You are a speci...</td>\n",
       "      <td>False</td>\n",
       "    </tr>\n",
       "    <tr>\n",
       "      <th>419</th>\n",
       "      <td>['Cleft palate', 'Choanal atresia', 'Elevated ...</td>\n",
       "      <td>['Bamforth-Lazarus syndrome/Hypothyroidism, at...</td>\n",
       "      <td>[INST] &lt;&lt;SYS&gt;&gt;\\n            {{ You are a speci...</td>\n",
       "      <td>False</td>\n",
       "    </tr>\n",
       "  </tbody>\n",
       "</table>\n",
       "<p>420 rows × 4 columns</p>\n",
       "</div>"
      ],
      "text/plain": [
       "                                                     0  \\\n",
       "0    ['Intellectual disability', 'Hypotonia', 'Glob...   \n",
       "1    ['Death in infancy', 'Aminoaciduria', 'Abnorma...   \n",
       "2    ['Weight loss', 'Arthralgia', 'Elevated circul...   \n",
       "3    ['Seizure', 'Spastic diplegia', 'Encephalopath...   \n",
       "4    ['Wide mouth', 'Epicanthus', 'Carious teeth', ...   \n",
       "..                                                 ...   \n",
       "415  ['Vesicoureteral reflux', 'Microretrognathia',...   \n",
       "416  ['Obesity', 'Death in infancy', 'Neutropenia',...   \n",
       "417  ['Eosinophilia', 'Lymphopenia', 'Increased cir...   \n",
       "418  ['Microcephaly', 'Ptosis', 'Myopia', 'Autism',...   \n",
       "419  ['Cleft palate', 'Choanal atresia', 'Elevated ...   \n",
       "\n",
       "                                                     1  \\\n",
       "0    ['TBCK-related intellectual disability syndrom...   \n",
       "1    ['3-Methylcrotonyl-CoA carboxylase 1 deficienc...   \n",
       "2    ['Scleroderma, familial progressive', 'Systemi...   \n",
       "3    ['Glutaric acidemia type I; GA-I/Glutaryl-CoA ...   \n",
       "4    ['Hyperinsulinemic hypoglycemia, familial, 2',...   \n",
       "..                                                 ...   \n",
       "415      ['Mental retardation, autosomal dominant 42']   \n",
       "416  ['Glycogen storage disease Ib/Glycogen storage...   \n",
       "417  ['Candidiasis, familial chronic mucocutaneous,...   \n",
       "418  ['Intellectual developmental disorder with dys...   \n",
       "419  ['Bamforth-Lazarus syndrome/Hypothyroidism, at...   \n",
       "\n",
       "                                                     2      4  \n",
       "0    [INST] <<SYS>>\\n            {{ You are a speci...  False  \n",
       "1    [INST] <<SYS>>\\n            {{ You are a speci...  False  \n",
       "2    [INST] <<SYS>>\\n            {{ You are a speci...  False  \n",
       "3    [INST] <<SYS>>\\n            {{ You are a speci...   True  \n",
       "4    [INST] <<SYS>>\\n            {{ You are a speci...  False  \n",
       "..                                                 ...    ...  \n",
       "415  [INST] <<SYS>>\\n            {{ You are a speci...  False  \n",
       "416  [INST] <<SYS>>\\n            {{ You are a speci...  False  \n",
       "417  [INST] <<SYS>>\\n            {{ You are a speci...  False  \n",
       "418  [INST] <<SYS>>\\n            {{ You are a speci...  False  \n",
       "419  [INST] <<SYS>>\\n            {{ You are a speci...  False  \n",
       "\n",
       "[420 rows x 4 columns]"
      ]
     },
     "metadata": {},
     "output_type": "display_data"
    }
   ],
   "source": [
    "display(zero_shot_predictions)\n",
    "zero_shot_predictions.to_csv(\"results/zero_shot_predictions.csv\", index = False)"
   ]
  },
  {
   "cell_type": "markdown",
   "metadata": {},
   "source": [
    "# Fine-Tuning"
   ]
  },
  {
   "cell_type": "code",
   "execution_count": 10,
   "metadata": {},
   "outputs": [],
   "source": [
    "dataset = load_dataset(\"csv\", data_files=\"final_traindata/final_train_data.csv\")"
   ]
  },
  {
   "cell_type": "code",
   "execution_count": 11,
   "metadata": {},
   "outputs": [
    {
     "name": "stdout",
     "output_type": "stream",
     "text": [
      "Dataset({\n",
      "    features: ['text'],\n",
      "    num_rows: 1854\n",
      "})\n",
      "Dataset({\n",
      "    features: ['text'],\n",
      "    num_rows: 207\n",
      "})\n"
     ]
    }
   ],
   "source": [
    "split = dataset[\"train\"].train_test_split(test_size=0.1, seed=42)\n",
    "train_dataset = split[\"train\"]\n",
    "val_dataset = split[\"test\"]\n",
    "\n",
    "print(train_dataset)\n",
    "print(val_dataset)"
   ]
  },
  {
   "cell_type": "code",
   "execution_count": 12,
   "metadata": {},
   "outputs": [
    {
     "data": {
      "text/plain": [
       "Dataset({\n",
       "    features: ['input_ids', 'attention_mask'],\n",
       "    num_rows: 1854\n",
       "})"
      ]
     },
     "metadata": {},
     "output_type": "display_data"
    },
    {
     "data": {
      "text/plain": [
       "Dataset({\n",
       "    features: ['input_ids', 'attention_mask'],\n",
       "    num_rows: 207\n",
       "})"
      ]
     },
     "metadata": {},
     "output_type": "display_data"
    }
   ],
   "source": [
    "train_dataset = train_dataset.map(lambda samples: tokenizer(samples[\"text\"]), batched=True)\n",
    "val_dataset = val_dataset.map(lambda samples: tokenizer(samples[\"text\"]), batched=True)\n",
    "train_dataset = train_dataset.remove_columns([\"text\"])\n",
    "val_dataset = val_dataset.remove_columns([\"text\"])\n",
    "display(train_dataset)\n",
    "display(val_dataset)"
   ]
  },
  {
   "cell_type": "code",
   "execution_count": 13,
   "metadata": {},
   "outputs": [
    {
     "name": "stdout",
     "output_type": "stream",
     "text": [
      "{'text': '[INST] <<SYS>> You are a specialist in the field of rare diseases. <</SYS>> Question: Rubella specific antibodies detected after vaccination/ natural infection: March 2013\\nChoices:\\nA. IgM\\nB. IgG\\nC. IgA\\nD. IgE\\nAnswer: [/INST] IgG </s>'}\n"
     ]
    }
   ],
   "source": [
    "print(dataset[\"train\"][0])"
   ]
  },
  {
   "cell_type": "code",
   "execution_count": 16,
   "metadata": {},
   "outputs": [],
   "source": [
    "model.gradient_checkpointing_enable()\n",
    "model = prepare_model_for_kbit_training(model)"
   ]
  },
  {
   "cell_type": "code",
   "execution_count": 17,
   "metadata": {},
   "outputs": [],
   "source": [
    "def print_trainable_parameters(model):\n",
    "    \"\"\"\n",
    "    Prints the number of trainable parameters in the model.\n",
    "    \"\"\"\n",
    "    trainable_params = 0\n",
    "    all_param = 0\n",
    "    for _, param in model.named_parameters():\n",
    "        all_param += param.numel()\n",
    "        if param.requires_grad:\n",
    "            trainable_params += param.numel()\n",
    "    print(\n",
    "        f\"trainable params: {trainable_params} || all params: {all_param} || trainable%: {100 * trainable_params / all_param}\"\n",
    "    )"
   ]
  },
  {
   "cell_type": "code",
   "execution_count": 18,
   "metadata": {},
   "outputs": [
    {
     "name": "stdout",
     "output_type": "stream",
     "text": [
      "trainable params: 4194304 || all params: 6742618112 || trainable%: 0.06220586618327525\n"
     ]
    }
   ],
   "source": [
    "config = LoraConfig(\n",
    "    r=8, \n",
    "    lora_alpha=16, \n",
    "    target_modules=[\"q_proj\", \"v_proj\"], \n",
    "    lora_dropout=0.2, \n",
    "    bias=\"none\", \n",
    "    task_type=\"CAUSAL_LM\"\n",
    ")\n",
    "\n",
    "model = get_peft_model(model, config)\n",
    "print_trainable_parameters(model)"
   ]
  },
  {
   "cell_type": "code",
   "execution_count": 20,
   "metadata": {},
   "outputs": [
    {
     "name": "stderr",
     "output_type": "stream",
     "text": [
      "No label_names provided for model class `PeftModelForCausalLM`. Since `PeftModel` hides base models input arguments, if label_names is not given, label_names can't be set automatically within `Trainer`. Note that empty label_names list will be used instead.\n"
     ]
    },
    {
     "data": {
      "text/html": [
       "\n",
       "    <div>\n",
       "      \n",
       "      <progress value='174' max='174' style='width:300px; height:20px; vertical-align: middle;'></progress>\n",
       "      [174/174 24:40, Epoch 3/3]\n",
       "    </div>\n",
       "    <table border=\"1\" class=\"dataframe\">\n",
       "  <thead>\n",
       " <tr style=\"text-align: left;\">\n",
       "      <th>Step</th>\n",
       "      <th>Training Loss</th>\n",
       "      <th>Validation Loss</th>\n",
       "    </tr>\n",
       "  </thead>\n",
       "  <tbody>\n",
       "    <tr>\n",
       "      <td>20</td>\n",
       "      <td>2.503000</td>\n",
       "      <td>2.417950</td>\n",
       "    </tr>\n",
       "    <tr>\n",
       "      <td>40</td>\n",
       "      <td>2.221300</td>\n",
       "      <td>2.055367</td>\n",
       "    </tr>\n",
       "    <tr>\n",
       "      <td>60</td>\n",
       "      <td>1.852100</td>\n",
       "      <td>1.594290</td>\n",
       "    </tr>\n",
       "    <tr>\n",
       "      <td>80</td>\n",
       "      <td>1.454000</td>\n",
       "      <td>1.301015</td>\n",
       "    </tr>\n",
       "    <tr>\n",
       "      <td>100</td>\n",
       "      <td>1.221700</td>\n",
       "      <td>1.131562</td>\n",
       "    </tr>\n",
       "    <tr>\n",
       "      <td>120</td>\n",
       "      <td>1.099900</td>\n",
       "      <td>1.047253</td>\n",
       "    </tr>\n",
       "    <tr>\n",
       "      <td>140</td>\n",
       "      <td>1.040900</td>\n",
       "      <td>1.019945</td>\n",
       "    </tr>\n",
       "    <tr>\n",
       "      <td>160</td>\n",
       "      <td>1.024000</td>\n",
       "      <td>1.012615</td>\n",
       "    </tr>\n",
       "  </tbody>\n",
       "</table><p>"
      ],
      "text/plain": [
       "<IPython.core.display.HTML object>"
      ]
     },
     "metadata": {},
     "output_type": "display_data"
    },
    {
     "name": "stderr",
     "output_type": "stream",
     "text": [
      "/usr/local/lib/python3.10/dist-packages/peft/utils/save_and_load.py:250: UserWarning: Setting `save_embedding_layers` to `True` as the embedding layer has been resized during finetuning.\n",
      "  warnings.warn(\n",
      "/usr/local/lib/python3.10/dist-packages/peft/utils/save_and_load.py:250: UserWarning: Setting `save_embedding_layers` to `True` as the embedding layer has been resized during finetuning.\n",
      "  warnings.warn(\n",
      "/usr/local/lib/python3.10/dist-packages/peft/utils/save_and_load.py:250: UserWarning: Setting `save_embedding_layers` to `True` as the embedding layer has been resized during finetuning.\n",
      "  warnings.warn(\n",
      "/usr/local/lib/python3.10/dist-packages/peft/utils/save_and_load.py:250: UserWarning: Setting `save_embedding_layers` to `True` as the embedding layer has been resized during finetuning.\n",
      "  warnings.warn(\n",
      "/usr/local/lib/python3.10/dist-packages/peft/utils/save_and_load.py:250: UserWarning: Setting `save_embedding_layers` to `True` as the embedding layer has been resized during finetuning.\n",
      "  warnings.warn(\n",
      "/usr/local/lib/python3.10/dist-packages/peft/utils/save_and_load.py:250: UserWarning: Setting `save_embedding_layers` to `True` as the embedding layer has been resized during finetuning.\n",
      "  warnings.warn(\n",
      "/usr/local/lib/python3.10/dist-packages/peft/utils/save_and_load.py:250: UserWarning: Setting `save_embedding_layers` to `True` as the embedding layer has been resized during finetuning.\n",
      "  warnings.warn(\n",
      "/usr/local/lib/python3.10/dist-packages/peft/utils/save_and_load.py:250: UserWarning: Setting `save_embedding_layers` to `True` as the embedding layer has been resized during finetuning.\n",
      "  warnings.warn(\n",
      "/usr/local/lib/python3.10/dist-packages/peft/utils/save_and_load.py:250: UserWarning: Setting `save_embedding_layers` to `True` as the embedding layer has been resized during finetuning.\n",
      "  warnings.warn(\n"
     ]
    },
    {
     "data": {
      "text/plain": [
       "TrainOutput(global_step=174, training_loss=1.5093286434809368, metrics={'train_runtime': 1489.2722, 'train_samples_per_second': 3.735, 'train_steps_per_second': 0.117, 'total_flos': 1.4314887634354176e+17, 'train_loss': 1.5093286434809368, 'epoch': 3.0})"
      ]
     },
     "execution_count": 20,
     "metadata": {},
     "output_type": "execute_result"
    }
   ],
   "source": [
    "trainer = transformers.Trainer(\n",
    "    model=model,\n",
    "    train_dataset=train_dataset,\n",
    "    eval_dataset=val_dataset,\n",
    "    args=transformers.TrainingArguments(\n",
    "        remove_unused_columns=True,\n",
    "        per_device_train_batch_size=8,\n",
    "        gradient_accumulation_steps=4,\n",
    "        warmup_steps=50,\n",
    "        num_train_epochs=3,\n",
    "        learning_rate=5e-5,\n",
    "        fp16= False,\n",
    "        bf16 = True,\n",
    "        logging_steps=20,\n",
    "        output_dir=\"outputs\",\n",
    "        optim=\"paged_adamw_8bit\",\n",
    "        save_steps = 20, \n",
    "        logging_first_step=True,\n",
    "        eval_strategy = \"steps\",  \n",
    "        eval_steps = 20,  \n",
    "        save_total_limit = 2,  \n",
    "        load_best_model_at_end = True,  \n",
    "        metric_for_best_model = \"loss\", \n",
    "        greater_is_better = False,\n",
    "        weight_decay=0.01,\n",
    "        lr_scheduler_type=\"cosine\"            \n",
    "    ),\n",
    "    data_collator=transformers.DataCollatorForLanguageModeling(tokenizer, mlm=False, pad_to_multiple_of=8),\n",
    ")\n",
    "model.config.use_cache = False  # silence the warnings. Please re-enable for inference!\n",
    "trainer.train()"
   ]
  },
  {
   "cell_type": "markdown",
   "metadata": {},
   "source": [
    "# Fine-Tuning Inference"
   ]
  },
  {
   "cell_type": "code",
   "execution_count": null,
   "metadata": {},
   "outputs": [],
   "source": [
    "model = PeftModel.from_pretrained(model, \"qlora_weights/finetune1_weights\")\n",
    "model = model.merge_and_unload()"
   ]
  },
  {
   "cell_type": "code",
   "execution_count": null,
   "metadata": {},
   "outputs": [],
   "source": [
    "rb_test = pd.read_csv('rarebench_data_test.csv')\n",
    "correct = 0\n",
    "finetuned1_predictions = []\n",
    "i = 0\n",
    "for _, example in rb_test.iterrows():\n",
    "    print(i)\n",
    "    prompt = '''<s>[INST] <<SYS>>\n",
    "            {{ You are a specialist in the field of rare diseases. You will be provided and\n",
    "            asked about a complicated clinical case; read it carefully and then provide a diverse and\n",
    "            comprehensive differential diagnosis. }}\n",
    "            <</SYS>>\n",
    "\n",
    "            {{ This rare disease patient suffers from symptoms: '''+ example[\"symptoms\"] +'''. Enumerate the top 10 most likely diagnoses. Be precise,\n",
    "            listing one diagnosis per line, and try to cover many unique possibilities (at least 10). The\n",
    "            top 10 diagnoses are: }} [/INST]'''\n",
    "    result = get_response(prompt)\n",
    "    #print(result)\n",
    "    #print(\"!\"+example[\"diseases\"])\n",
    "    finetuned1_predictions.append({\n",
    "        \"symptoms\": example[\"symptoms\"],\n",
    "        \"diseases\": example[\"diseases\"],\n",
    "        \"predicted\": result\n",
    "    })  \n",
    "    i += 1\n",
    "\n",
    "finetuned1_predictions = pd.DataFrame(finetuned1_predictions)\n",
    "finetuned1_predictions.to_csv(\"intermediate_data/finetuned1_predictions.csv\", index = False)"
   ]
  },
  {
   "cell_type": "markdown",
   "metadata": {},
   "source": [
    "# Graphs"
   ]
  },
  {
   "cell_type": "code",
   "execution_count": 3,
   "metadata": {},
   "outputs": [
    {
     "data": {
      "image/png": "[encoded data removed]",
      "text/plain": [
       "<Figure size 800x500 with 1 Axes>"
      ]
     },
     "metadata": {},
     "output_type": "display_data"
    }
   ],
   "source": [
    "# Fine-tuning 1\n",
    "\n",
    "steps = [20, 40, 60, 80, 100, 120, 140, 160]\n",
    "training_loss = [2.503000, 2.221300, 1.852100, 1.454000, 1.221700, 1.099900, 1.040900, 1.024000]\n",
    "validation_loss = [2.417950, 2.055367, 1.594290, 1.301015, 1.131562, 1.047253, 1.019945, 1.012615]\n",
    "\n",
    "plt.figure(figsize=(8, 5))\n",
    "plt.plot(steps, training_loss, label='Training Loss', marker='o', color='blue')\n",
    "plt.plot(steps, validation_loss, label='Validation Loss', marker='s', color='orange')\n",
    "\n",
    "plt.xlabel('Steps')\n",
    "plt.ylabel('Loss')\n",
    "plt.title('Training and Validation Loss vs Steps')\n",
    "plt.legend()\n",
    "plt.grid(True)\n",
    "plt.tight_layout()\n",
    "\n",
    "plt.show()\n"
   ]
  },
  {
   "cell_type": "code",
   "execution_count": 1,
   "metadata": {},
   "outputs": [
    {
     "data": {
      "image/png": "[encoded data removed]",
      "text/plain": [
       "<Figure size 800x500 with 1 Axes>"
      ]
     },
     "metadata": {},
     "output_type": "display_data"
    }
   ],
   "source": [
    "# Fine-tuning 2\n",
    "\n",
    "steps = [\n",
    "    20, 40, 60, 80, 100, 120, 140, 160, 180, 200, \n",
    "    220, 240, 260, 280, 300, 320, 340, 360, 380, 400,\n",
    "    420, 440, 460, 480, 500, 520\n",
    "]\n",
    "training_loss =    [1.7396, 1.5583, 1.286, 1.0541, 0.8901, 0.7703, 0.7306, 0.6765, 0.7073, 0.651,\n",
    "    0.6401, 0.6283, 0.6428, 0.6194, 0.6406, 0.621, 0.5993, 0.6327, 0.5965, 0.6121,\n",
    "    0.6003, 0.6013, 0.6043, 0.5919, 0.6027, 0.5992\n",
    "]\n",
    "validation_loss = [\n",
    "    1.7374, 1.4877, 1.1865, 0.9713, 0.8172, 0.7521, 0.7124, 0.6865, 0.6700, 0.6582,\n",
    "    0.6490, 0.6420, 0.6354, 0.6299, 0.6257, 0.6222, 0.6195, 0.6168, 0.6152, 0.6136,\n",
    "    0.6124, 0.6116, 0.6111, 0.6107, 0.6105, 0.6104\n",
    "]\n",
    "\n",
    "plt.figure(figsize=(8, 5))\n",
    "plt.plot(steps, training_loss, label='Training Loss', marker='o', color='blue')\n",
    "plt.plot(steps, validation_loss, label='Validation Loss', marker='s', color='orange')\n",
    "\n",
    "plt.xlabel('Steps')\n",
    "plt.ylabel('Loss')\n",
    "plt.title('Training and Validation Loss vs Steps')\n",
    "plt.legend()\n",
    "plt.grid(True)\n",
    "plt.tight_layout()\n",
    "\n",
    "plt.show()\n"
   ]
  }
 ],
 "metadata": {
  "kernelspec": {
   "display_name": "Python 3 (ipykernel)",
   "language": "python",
   "name": "python3"
  },
  "language_info": {
   "codemirror_mode": {
    "name": "ipython",
    "version": 3
   },
   "file_extension": ".py",
   "mimetype": "text/x-python",
   "name": "python",
   "nbconvert_exporter": "python",
   "pygments_lexer": "ipython3",
   "version": "3.10.8"
  }
 },
 "nbformat": 4,
 "nbformat_minor": 4
}
